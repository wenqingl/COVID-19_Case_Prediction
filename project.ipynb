{
 "cells": [
  {
   "cell_type": "code",
   "execution_count": 1,
   "id": "1ea7c1bc",
   "metadata": {},
   "outputs": [
    {
     "data": {
      "text/html": [
       "<div>\n",
       "<style scoped>\n",
       "    .dataframe tbody tr th:only-of-type {\n",
       "        vertical-align: middle;\n",
       "    }\n",
       "\n",
       "    .dataframe tbody tr th {\n",
       "        vertical-align: top;\n",
       "    }\n",
       "\n",
       "    .dataframe thead th {\n",
       "        text-align: right;\n",
       "    }\n",
       "</style>\n",
       "<table border=\"1\" class=\"dataframe\">\n",
       "  <thead>\n",
       "    <tr style=\"text-align: right;\">\n",
       "      <th></th>\n",
       "      <th>age</th>\n",
       "      <th>sex</th>\n",
       "      <th>province</th>\n",
       "      <th>country</th>\n",
       "      <th>latitude</th>\n",
       "      <th>longitude</th>\n",
       "      <th>date_confirmation</th>\n",
       "      <th>chronic_disease_binary</th>\n",
       "      <th>Confirmed</th>\n",
       "      <th>Deaths</th>\n",
       "      <th>Recovered</th>\n",
       "      <th>Active</th>\n",
       "      <th>Incident_Rate</th>\n",
       "      <th>Case_Fatality_Ratio</th>\n",
       "      <th>outcome_group</th>\n",
       "    </tr>\n",
       "  </thead>\n",
       "  <tbody>\n",
       "    <tr>\n",
       "      <th>0</th>\n",
       "      <td>18</td>\n",
       "      <td>female</td>\n",
       "      <td>Bihar</td>\n",
       "      <td>India</td>\n",
       "      <td>25.49096</td>\n",
       "      <td>85.93903</td>\n",
       "      <td>2020-05-18</td>\n",
       "      <td>False</td>\n",
       "      <td>265527</td>\n",
       "      <td>1576</td>\n",
       "      <td>262371</td>\n",
       "      <td>1580</td>\n",
       "      <td>212.762145</td>\n",
       "      <td>0.593537</td>\n",
       "      <td>hospitalized</td>\n",
       "    </tr>\n",
       "    <tr>\n",
       "      <th>1</th>\n",
       "      <td>27</td>\n",
       "      <td>female</td>\n",
       "      <td>NaN</td>\n",
       "      <td>Philippines</td>\n",
       "      <td>7.07000</td>\n",
       "      <td>125.60000</td>\n",
       "      <td>2020-04-15</td>\n",
       "      <td>False</td>\n",
       "      <td>747288</td>\n",
       "      <td>13297</td>\n",
       "      <td>603746</td>\n",
       "      <td>130245</td>\n",
       "      <td>681.949809</td>\n",
       "      <td>1.779368</td>\n",
       "      <td>nonhospitalized</td>\n",
       "    </tr>\n",
       "    <tr>\n",
       "      <th>2</th>\n",
       "      <td>46</td>\n",
       "      <td>male</td>\n",
       "      <td>Tamil Nadu</td>\n",
       "      <td>India</td>\n",
       "      <td>13.08362</td>\n",
       "      <td>80.28252</td>\n",
       "      <td>2020-05-02</td>\n",
       "      <td>False</td>\n",
       "      <td>886673</td>\n",
       "      <td>12719</td>\n",
       "      <td>858075</td>\n",
       "      <td>15879</td>\n",
       "      <td>1139.078325</td>\n",
       "      <td>1.434463</td>\n",
       "      <td>hospitalized</td>\n",
       "    </tr>\n",
       "    <tr>\n",
       "      <th>3</th>\n",
       "      <td>21</td>\n",
       "      <td>female</td>\n",
       "      <td>Tamil Nadu</td>\n",
       "      <td>India</td>\n",
       "      <td>13.08362</td>\n",
       "      <td>80.28252</td>\n",
       "      <td>2020-05-24</td>\n",
       "      <td>False</td>\n",
       "      <td>886673</td>\n",
       "      <td>12719</td>\n",
       "      <td>858075</td>\n",
       "      <td>15879</td>\n",
       "      <td>1139.078325</td>\n",
       "      <td>1.434463</td>\n",
       "      <td>hospitalized</td>\n",
       "    </tr>\n",
       "    <tr>\n",
       "      <th>4</th>\n",
       "      <td>27</td>\n",
       "      <td>male</td>\n",
       "      <td>Bihar</td>\n",
       "      <td>India</td>\n",
       "      <td>26.28361</td>\n",
       "      <td>87.20347</td>\n",
       "      <td>2020-05-27</td>\n",
       "      <td>False</td>\n",
       "      <td>265527</td>\n",
       "      <td>1576</td>\n",
       "      <td>262371</td>\n",
       "      <td>1580</td>\n",
       "      <td>212.762145</td>\n",
       "      <td>0.593537</td>\n",
       "      <td>hospitalized</td>\n",
       "    </tr>\n",
       "  </tbody>\n",
       "</table>\n",
       "</div>"
      ],
      "text/plain": [
       "   age     sex    province      country  latitude  longitude  \\\n",
       "0   18  female       Bihar        India  25.49096   85.93903   \n",
       "1   27  female         NaN  Philippines   7.07000  125.60000   \n",
       "2   46    male  Tamil Nadu        India  13.08362   80.28252   \n",
       "3   21  female  Tamil Nadu        India  13.08362   80.28252   \n",
       "4   27    male       Bihar        India  26.28361   87.20347   \n",
       "\n",
       "  date_confirmation  chronic_disease_binary  Confirmed  Deaths  Recovered  \\\n",
       "0        2020-05-18                   False     265527    1576     262371   \n",
       "1        2020-04-15                   False     747288   13297     603746   \n",
       "2        2020-05-02                   False     886673   12719     858075   \n",
       "3        2020-05-24                   False     886673   12719     858075   \n",
       "4        2020-05-27                   False     265527    1576     262371   \n",
       "\n",
       "   Active  Incident_Rate  Case_Fatality_Ratio    outcome_group  \n",
       "0    1580     212.762145             0.593537     hospitalized  \n",
       "1  130245     681.949809             1.779368  nonhospitalized  \n",
       "2   15879    1139.078325             1.434463     hospitalized  \n",
       "3   15879    1139.078325             1.434463     hospitalized  \n",
       "4    1580     212.762145             0.593537     hospitalized  "
      ]
     },
     "execution_count": 1,
     "metadata": {},
     "output_type": "execute_result"
    }
   ],
   "source": [
    "import pandas as pd\n",
    "import numpy as np\n",
    "from numpy import mean\n",
    "from pandas import read_excel\n",
    "from collections import Counter\n",
    "import sklearn\n",
    "from sklearn import model_selection\n",
    "from sklearn.datasets import make_classification\n",
    "from sklearn.model_selection import train_test_split, GridSearchCV, KFold, RandomizedSearchCV, cross_val_score, cross_val_predict, RepeatedStratifiedKFold\n",
    "from sklearn.metrics import accuracy_score, confusion_matrix, roc_curve, roc_auc_score, mean_absolute_error, make_scorer, precision_score, recall_score, f1_score, classification_report\n",
    "import csv\n",
    "from sklearn import tree\n",
    "from sklearn.tree import DecisionTreeClassifier, export_graphviz\n",
    "from sklearn.ensemble import RandomForestClassifier, GradientBoostingClassifier\n",
    "import imblearn\n",
    "from imblearn.under_sampling import RandomUnderSampler\n",
    "from imblearn.over_sampling import RandomOverSampler\n",
    "import matplotlib.pyplot as plt\n",
    "from sklearn.preprocessing import MinMaxScaler\n",
    "import xgboost as xgb\n",
    "\n",
    "cases_train = pd.read_excel('cases_2021_train_processed_2.xlsx')\n",
    "cases_train.head()"
   ]
  },
  {
   "cell_type": "code",
   "execution_count": 2,
   "id": "2c600691",
   "metadata": {
    "scrolled": false
   },
   "outputs": [
    {
     "data": {
      "text/html": [
       "<div>\n",
       "<style scoped>\n",
       "    .dataframe tbody tr th:only-of-type {\n",
       "        vertical-align: middle;\n",
       "    }\n",
       "\n",
       "    .dataframe tbody tr th {\n",
       "        vertical-align: top;\n",
       "    }\n",
       "\n",
       "    .dataframe thead th {\n",
       "        text-align: right;\n",
       "    }\n",
       "</style>\n",
       "<table border=\"1\" class=\"dataframe\">\n",
       "  <thead>\n",
       "    <tr style=\"text-align: right;\">\n",
       "      <th></th>\n",
       "      <th>age</th>\n",
       "      <th>sex</th>\n",
       "      <th>latitude</th>\n",
       "      <th>longitude</th>\n",
       "      <th>chronic_disease_binary</th>\n",
       "      <th>Confirmed</th>\n",
       "      <th>Deaths</th>\n",
       "      <th>Recovered</th>\n",
       "      <th>Active</th>\n",
       "      <th>Incident_Rate</th>\n",
       "      <th>Case_Fatality_Ratio</th>\n",
       "    </tr>\n",
       "  </thead>\n",
       "  <tbody>\n",
       "    <tr>\n",
       "      <th>0</th>\n",
       "      <td>18</td>\n",
       "      <td>0</td>\n",
       "      <td>25.49096</td>\n",
       "      <td>85.93903</td>\n",
       "      <td>0</td>\n",
       "      <td>265527</td>\n",
       "      <td>1576</td>\n",
       "      <td>262371</td>\n",
       "      <td>1580</td>\n",
       "      <td>212.762145</td>\n",
       "      <td>0.593537</td>\n",
       "    </tr>\n",
       "    <tr>\n",
       "      <th>1</th>\n",
       "      <td>27</td>\n",
       "      <td>0</td>\n",
       "      <td>7.07000</td>\n",
       "      <td>125.60000</td>\n",
       "      <td>0</td>\n",
       "      <td>747288</td>\n",
       "      <td>13297</td>\n",
       "      <td>603746</td>\n",
       "      <td>130245</td>\n",
       "      <td>681.949809</td>\n",
       "      <td>1.779368</td>\n",
       "    </tr>\n",
       "    <tr>\n",
       "      <th>2</th>\n",
       "      <td>46</td>\n",
       "      <td>1</td>\n",
       "      <td>13.08362</td>\n",
       "      <td>80.28252</td>\n",
       "      <td>0</td>\n",
       "      <td>886673</td>\n",
       "      <td>12719</td>\n",
       "      <td>858075</td>\n",
       "      <td>15879</td>\n",
       "      <td>1139.078325</td>\n",
       "      <td>1.434463</td>\n",
       "    </tr>\n",
       "    <tr>\n",
       "      <th>3</th>\n",
       "      <td>21</td>\n",
       "      <td>0</td>\n",
       "      <td>13.08362</td>\n",
       "      <td>80.28252</td>\n",
       "      <td>0</td>\n",
       "      <td>886673</td>\n",
       "      <td>12719</td>\n",
       "      <td>858075</td>\n",
       "      <td>15879</td>\n",
       "      <td>1139.078325</td>\n",
       "      <td>1.434463</td>\n",
       "    </tr>\n",
       "    <tr>\n",
       "      <th>4</th>\n",
       "      <td>27</td>\n",
       "      <td>1</td>\n",
       "      <td>26.28361</td>\n",
       "      <td>87.20347</td>\n",
       "      <td>0</td>\n",
       "      <td>265527</td>\n",
       "      <td>1576</td>\n",
       "      <td>262371</td>\n",
       "      <td>1580</td>\n",
       "      <td>212.762145</td>\n",
       "      <td>0.593537</td>\n",
       "    </tr>\n",
       "    <tr>\n",
       "      <th>...</th>\n",
       "      <td>...</td>\n",
       "      <td>...</td>\n",
       "      <td>...</td>\n",
       "      <td>...</td>\n",
       "      <td>...</td>\n",
       "      <td>...</td>\n",
       "      <td>...</td>\n",
       "      <td>...</td>\n",
       "      <td>...</td>\n",
       "      <td>...</td>\n",
       "      <td>...</td>\n",
       "    </tr>\n",
       "    <tr>\n",
       "      <th>17207</th>\n",
       "      <td>29</td>\n",
       "      <td>0</td>\n",
       "      <td>13.08362</td>\n",
       "      <td>80.28252</td>\n",
       "      <td>0</td>\n",
       "      <td>886673</td>\n",
       "      <td>12719</td>\n",
       "      <td>858075</td>\n",
       "      <td>15879</td>\n",
       "      <td>1139.078325</td>\n",
       "      <td>1.434463</td>\n",
       "    </tr>\n",
       "    <tr>\n",
       "      <th>17208</th>\n",
       "      <td>47</td>\n",
       "      <td>0</td>\n",
       "      <td>16.68814</td>\n",
       "      <td>121.54992</td>\n",
       "      <td>0</td>\n",
       "      <td>747288</td>\n",
       "      <td>13297</td>\n",
       "      <td>603746</td>\n",
       "      <td>130245</td>\n",
       "      <td>681.949809</td>\n",
       "      <td>1.779368</td>\n",
       "    </tr>\n",
       "    <tr>\n",
       "      <th>17209</th>\n",
       "      <td>30</td>\n",
       "      <td>1</td>\n",
       "      <td>24.94452</td>\n",
       "      <td>86.26404</td>\n",
       "      <td>0</td>\n",
       "      <td>265527</td>\n",
       "      <td>1576</td>\n",
       "      <td>262371</td>\n",
       "      <td>1580</td>\n",
       "      <td>212.762145</td>\n",
       "      <td>0.593537</td>\n",
       "    </tr>\n",
       "    <tr>\n",
       "      <th>17210</th>\n",
       "      <td>59</td>\n",
       "      <td>1</td>\n",
       "      <td>12.68224</td>\n",
       "      <td>79.98008</td>\n",
       "      <td>0</td>\n",
       "      <td>886673</td>\n",
       "      <td>12719</td>\n",
       "      <td>858075</td>\n",
       "      <td>15879</td>\n",
       "      <td>1139.078325</td>\n",
       "      <td>1.434463</td>\n",
       "    </tr>\n",
       "    <tr>\n",
       "      <th>17211</th>\n",
       "      <td>28</td>\n",
       "      <td>1</td>\n",
       "      <td>14.58000</td>\n",
       "      <td>121.03000</td>\n",
       "      <td>0</td>\n",
       "      <td>747288</td>\n",
       "      <td>13297</td>\n",
       "      <td>603746</td>\n",
       "      <td>130245</td>\n",
       "      <td>681.949809</td>\n",
       "      <td>1.779368</td>\n",
       "    </tr>\n",
       "  </tbody>\n",
       "</table>\n",
       "<p>17212 rows × 11 columns</p>\n",
       "</div>"
      ],
      "text/plain": [
       "       age  sex  latitude  longitude  chronic_disease_binary  Confirmed  \\\n",
       "0       18    0  25.49096   85.93903                       0     265527   \n",
       "1       27    0   7.07000  125.60000                       0     747288   \n",
       "2       46    1  13.08362   80.28252                       0     886673   \n",
       "3       21    0  13.08362   80.28252                       0     886673   \n",
       "4       27    1  26.28361   87.20347                       0     265527   \n",
       "...    ...  ...       ...        ...                     ...        ...   \n",
       "17207   29    0  13.08362   80.28252                       0     886673   \n",
       "17208   47    0  16.68814  121.54992                       0     747288   \n",
       "17209   30    1  24.94452   86.26404                       0     265527   \n",
       "17210   59    1  12.68224   79.98008                       0     886673   \n",
       "17211   28    1  14.58000  121.03000                       0     747288   \n",
       "\n",
       "       Deaths  Recovered  Active  Incident_Rate  Case_Fatality_Ratio  \n",
       "0        1576     262371    1580     212.762145             0.593537  \n",
       "1       13297     603746  130245     681.949809             1.779368  \n",
       "2       12719     858075   15879    1139.078325             1.434463  \n",
       "3       12719     858075   15879    1139.078325             1.434463  \n",
       "4        1576     262371    1580     212.762145             0.593537  \n",
       "...       ...        ...     ...            ...                  ...  \n",
       "17207   12719     858075   15879    1139.078325             1.434463  \n",
       "17208   13297     603746  130245     681.949809             1.779368  \n",
       "17209    1576     262371    1580     212.762145             0.593537  \n",
       "17210   12719     858075   15879    1139.078325             1.434463  \n",
       "17211   13297     603746  130245     681.949809             1.779368  \n",
       "\n",
       "[17212 rows x 11 columns]"
      ]
     },
     "execution_count": 2,
     "metadata": {},
     "output_type": "execute_result"
    }
   ],
   "source": [
    "#1.1 feature selection\n",
    "features = ['age','sex','latitude', 'longitude','chronic_disease_binary','Confirmed','Deaths','Recovered','Active','Incident_Rate','Case_Fatality_Ratio','outcome_group']\n",
    "\n",
    "cases_train = cases_train[features]\n",
    "\n",
    "#1.2 feature mapping\n",
    "#sex column mapping\n",
    "cases_train.sex = pd.Categorical(cases_train.sex)\n",
    "cases_train['sex'] = cases_train.sex.cat.codes\n",
    "#chronic_disease_binary column mapping\n",
    "cases_train.chronic_disease_binary = pd.Categorical(cases_train.chronic_disease_binary)\n",
    "cases_train['chronic_disease_binary'] = cases_train.chronic_disease_binary.cat.codes\n",
    "#outcome_group column mapping\n",
    "outcome_group_map = {'deceased':0, 'hospitalized':1, 'nonhospitalized':2}\n",
    "cases_train = cases_train.applymap(lambda s: outcome_group_map.get(s) if s in outcome_group_map else s)\n",
    "\n",
    "y = cases_train['outcome_group']\n",
    "cases_train = cases_train.drop(['outcome_group'], axis=1)\n",
    "cases_train"
   ]
  },
  {
   "cell_type": "code",
   "execution_count": 3,
   "id": "531e3465",
   "metadata": {},
   "outputs": [
    {
     "data": {
      "text/plain": [
       "1    13241\n",
       "2     2974\n",
       "0      997\n",
       "Name: outcome_group, dtype: int64"
      ]
     },
     "execution_count": 3,
     "metadata": {},
     "output_type": "execute_result"
    }
   ],
   "source": [
    "#count number of cases for each class\n",
    "y.value_counts()"
   ]
  },
  {
   "cell_type": "code",
   "execution_count": 4,
   "id": "9e9b06a9",
   "metadata": {},
   "outputs": [
    {
     "data": {
      "image/png": "[encoded data removed]",
      "text/plain": [
       "<Figure size 432x288 with 1 Axes>"
      ]
     },
     "metadata": {
      "needs_background": "light"
     },
     "output_type": "display_data"
    }
   ],
   "source": [
    "y.value_counts().plot(kind='bar', title='Number of labels before balancing')\n",
    "plt.savefig(\"./plots/labels_before_balancing.png\")"
   ]
  },
  {
   "cell_type": "code",
   "execution_count": 5,
   "id": "37271aed",
   "metadata": {},
   "outputs": [
    {
     "name": "stdout",
     "output_type": "stream",
     "text": [
      "Resample dataset: Counter({1: 13241, 2: 13241, 0: 13241})\n"
     ]
    },
    {
     "data": {
      "image/png": "[encoded data removed]",
      "text/plain": [
       "<Figure size 432x288 with 1 Axes>"
      ]
     },
     "metadata": {
      "needs_background": "light"
     },
     "output_type": "display_data"
    }
   ],
   "source": [
    "#1.3 balance dataset\n",
    "#Reference: https://www.analyticsvidhya.com/blog/2020/07/10-techniques-to-deal-with-class-imbalance-in-machine-learning/\n",
    "#under-sampling\n",
    "\"\"\"\n",
    "train_resample = RandomUnderSampler(random_state=42, replacement=True)# fit predictor and target variable\n",
    "cases_train, y = train_resample.fit_resample(cases_train, y)\n",
    "\n",
    "print('Resample dataset shape', Counter(y))\n",
    "y.value_counts().plot(kind='bar', title='Number of labels after under-sampling')\n",
    "plt.savefig(\"./plots/labels_after_undersampling.png\")\n",
    "\"\"\"\n",
    "\n",
    "#over-sampling\n",
    "train_resample = RandomOverSampler(random_state=42)\n",
    "cases_train, y = train_resample.fit_resample(cases_train, y)\n",
    "\n",
    "print('Resample dataset:', Counter(y))\n",
    "y.value_counts().plot(kind='bar', title='Number of labels after over-sampling')\n",
    "plt.savefig(\"./plots/labels_after_oversampling.png\")"
   ]
  },
  {
   "cell_type": "code",
   "execution_count": 6,
   "id": "8ac5a4d7",
   "metadata": {},
   "outputs": [],
   "source": [
    "#scale features in training dataset\n",
    "#Reference: https://towardsdatascience.com/how-to-check-if-a-classification-model-is-overfitted-using-scikit-learn-148b6b19af8b\n",
    "for column in cases_train.columns:\n",
    "    feature = np.array(cases_train[column]).reshape(-1,1)\n",
    "    scaler = MinMaxScaler()\n",
    "    scaler.fit(feature)\n",
    "    feature_scaled = scaler.transform(feature)\n",
    "    cases_train[column] = feature_scaled.reshape(1,-1)[0]"
   ]
  },
  {
   "cell_type": "code",
   "execution_count": 7,
   "id": "521e0923",
   "metadata": {},
   "outputs": [],
   "source": [
    "#1.4 Building models and hyperparameter tuning\n",
    "#split the dataset into 80% training set and 20% testing set\n",
    "X_train, X_test, y_train, y_test = train_test_split(cases_train, y, test_size = 0.2, random_state=123)"
   ]
  },
  {
   "cell_type": "code",
   "execution_count": 8,
   "id": "bd6b4f44",
   "metadata": {},
   "outputs": [
    {
     "name": "stdout",
     "output_type": "stream",
     "text": [
      "Base Random Forest model Training Accuracy:  0.9370319088677701\n"
     ]
    }
   ],
   "source": [
    "#build base random forest model\n",
    "rf = RandomForestClassifier(random_state=7)\n",
    "\n",
    "rf = rf.fit(X_train, y_train)\n",
    "#Base Random Forest model Training Accuracy\n",
    "y_pred = rf.predict(X_train) \n",
    "acc1 = accuracy_score(y_train, y_pred)\n",
    "print(\"Base Random Forest model Training Accuracy: \", acc1)"
   ]
  },
  {
   "cell_type": "code",
   "execution_count": 9,
   "id": "5e012fa1",
   "metadata": {},
   "outputs": [
    {
     "name": "stdout",
     "output_type": "stream",
     "text": [
      "Base Random Forest model Testing Acuracy:  0.9238514789175583\n"
     ]
    }
   ],
   "source": [
    "#Base Random Forest model Testing Acuracy\n",
    "y_pred = rf.predict(X_test)\n",
    "acc2 = accuracy_score(y_test, y_pred)\n",
    "print(\"Base Random Forest model Testing Acuracy: \", acc2)"
   ]
  },
  {
   "cell_type": "code",
   "execution_count": 10,
   "id": "a8f5ab50",
   "metadata": {},
   "outputs": [],
   "source": [
    "#hyperparameters passed to randomized search\n",
    "n_estimators = [10, 20, 30, 40, 50, 60, 70, 80, 90, 100, 115, 130]\n",
    "max_features = ['auto', 'sqrt', 'log2']\n",
    "criterion = ['gini', 'entropy']\n",
    "max_depth = [10, 20, 30, 40, 50, 60, 70, 80, 90, 100, None]\n",
    "min_samples_split = [2, 4, 5, 10,100, 1000]\n",
    "min_samples_leaf = [1, 2, 4, 10, 100]\n",
    "\n",
    "random_grid = {\n",
    "    'n_estimators': n_estimators,\n",
    "    'criterion': criterion,\n",
    "    'max_features': max_features,\n",
    "    'max_depth': max_depth,\n",
    "    'min_samples_split': min_samples_split,\n",
    "    'min_samples_leaf': min_samples_leaf\n",
    "}"
   ]
  },
  {
   "cell_type": "code",
   "execution_count": 11,
   "id": "a8f2fd75",
   "metadata": {},
   "outputs": [
    {
     "name": "stdout",
     "output_type": "stream",
     "text": [
      "Fitting 5 folds for each of 100 candidates, totalling 500 fits\n"
     ]
    },
    {
     "data": {
      "text/plain": [
       "RandomizedSearchCV(cv=5, estimator=RandomForestClassifier(random_state=7),\n",
       "                   n_iter=100, n_jobs=-1,\n",
       "                   param_distributions={'criterion': ['gini', 'entropy'],\n",
       "                                        'max_depth': [10, 20, 30, 40, 50, 60,\n",
       "                                                      70, 80, 90, 100, None],\n",
       "                                        'max_features': ['auto', 'sqrt',\n",
       "                                                         'log2'],\n",
       "                                        'min_samples_leaf': [1, 2, 4, 10, 100],\n",
       "                                        'min_samples_split': [2, 4, 5, 10, 100,\n",
       "                                                              1000],\n",
       "                                        'n_estimators': [10, 20, 30, 40, 50, 60,\n",
       "                                                         70, 80, 90, 100, 115,\n",
       "                                                         130]},\n",
       "                   scoring='f1_macro', verbose=2)"
      ]
     },
     "execution_count": 11,
     "metadata": {},
     "output_type": "execute_result"
    }
   ],
   "source": [
    "rf_random = RandomizedSearchCV(estimator = rf,param_distributions = random_grid,n_iter = 100,cv = 5,scoring='f1_macro',verbose=2,n_jobs = -1)\n",
    "rf_random.fit(X_train, y_train)"
   ]
  },
  {
   "cell_type": "code",
   "execution_count": 12,
   "id": "4b761d33",
   "metadata": {},
   "outputs": [
    {
     "data": {
      "text/plain": [
       "{'n_estimators': 100,\n",
       " 'min_samples_split': 2,\n",
       " 'min_samples_leaf': 1,\n",
       " 'max_features': 'auto',\n",
       " 'max_depth': 100,\n",
       " 'criterion': 'gini'}"
      ]
     },
     "execution_count": 12,
     "metadata": {},
     "output_type": "execute_result"
    }
   ],
   "source": [
    "#Best parameters returned by random search\n",
    "rf_random.best_params_"
   ]
  },
  {
   "cell_type": "code",
   "execution_count": 13,
   "id": "664a8e3d",
   "metadata": {},
   "outputs": [],
   "source": [
    "#hyperparameters passed to grid search\n",
    "grid_param = {\n",
    "    'n_estimators' : [40, 50, 60, 100, 115],\n",
    "    'criterion': ['gini', 'entropy'],\n",
    "    'max_features' : ['auto', 'log2', 'sqrt'],\n",
    "    'max_depth' : [40, 50, 60, 70, 80, 90, None],\n",
    "    'min_samples_leaf' : [1, 2, 4],\n",
    "    'min_samples_split': [2, 4]\n",
    "}"
   ]
  },
  {
   "cell_type": "code",
   "execution_count": 14,
   "id": "51207bd5",
   "metadata": {},
   "outputs": [
    {
     "name": "stdout",
     "output_type": "stream",
     "text": [
      "Fitting 5 folds for each of 1260 candidates, totalling 6300 fits\n"
     ]
    },
    {
     "data": {
      "text/plain": [
       "GridSearchCV(cv=5, estimator=RandomForestClassifier(random_state=7), n_jobs=-1,\n",
       "             param_grid={'criterion': ['gini', 'entropy'],\n",
       "                         'max_depth': [40, 50, 60, 70, 80, 90, None],\n",
       "                         'max_features': ['auto', 'log2', 'sqrt'],\n",
       "                         'min_samples_leaf': [1, 2, 4],\n",
       "                         'min_samples_split': [2, 4],\n",
       "                         'n_estimators': [40, 50, 60, 100, 115]},\n",
       "             scoring='f1_macro', verbose=3)"
      ]
     },
     "execution_count": 14,
     "metadata": {},
     "output_type": "execute_result"
    }
   ],
   "source": [
    "rf_grid = GridSearchCV(estimator=rf,param_grid=grid_param,cv=5,scoring='f1_macro',n_jobs =-1,verbose = 3)\n",
    "rf_grid.fit(X_train,y_train)"
   ]
  },
  {
   "cell_type": "code",
   "execution_count": 15,
   "id": "fb9ab130",
   "metadata": {},
   "outputs": [
    {
     "data": {
      "text/plain": [
       "{'criterion': 'gini',\n",
       " 'max_depth': 40,\n",
       " 'max_features': 'auto',\n",
       " 'min_samples_leaf': 1,\n",
       " 'min_samples_split': 2,\n",
       " 'n_estimators': 115}"
      ]
     },
     "execution_count": 15,
     "metadata": {},
     "output_type": "execute_result"
    }
   ],
   "source": [
    "#Best parameters returned by random search\n",
    "rf_grid.best_params_"
   ]
  },
  {
   "cell_type": "code",
   "execution_count": 16,
   "id": "8de4b5ca",
   "metadata": {},
   "outputs": [],
   "source": [
    "#New Random Forest model with tuned hyperparameters\n",
    "rf = RandomForestClassifier(criterion= 'entropy',\n",
    " max_depth = 40,\n",
    " max_features = 'auto',\n",
    " min_samples_leaf = 1,\n",
    " min_samples_split= 2,\n",
    " n_estimators = 115, random_state=7)"
   ]
  },
  {
   "cell_type": "code",
   "execution_count": 17,
   "id": "212946c0",
   "metadata": {},
   "outputs": [
    {
     "data": {
      "text/plain": [
       "RandomForestClassifier(criterion='entropy', max_depth=40, n_estimators=115,\n",
       "                       random_state=7)"
      ]
     },
     "execution_count": 17,
     "metadata": {},
     "output_type": "execute_result"
    }
   ],
   "source": [
    "rf.fit(X_train,y_train)"
   ]
  },
  {
   "cell_type": "code",
   "execution_count": 18,
   "id": "1d248b2d",
   "metadata": {},
   "outputs": [
    {
     "name": "stdout",
     "output_type": "stream",
     "text": [
      "Tuned Random Forest model Testing Acuracy:  0.9244808055380742\n"
     ]
    }
   ],
   "source": [
    "y_pred = rf.predict(X_test)\n",
    "acc = accuracy_score(y_test, y_pred)\n",
    "print(\"Tuned Random Forest model Testing Acuracy: \", acc)"
   ]
  },
  {
   "cell_type": "code",
   "execution_count": 19,
   "id": "9442e4b5",
   "metadata": {
    "scrolled": true
   },
   "outputs": [
    {
     "name": "stdout",
     "output_type": "stream",
     "text": [
      "['fit_time', 'score_time', 'test_accuracy', 'test_f1_score']\n",
      "Mean macro F1-score :  0.9254420726429423\n",
      "Mean overall accuracy :  0.9250425996190371\n",
      "                 precision    recall  f1-score   support\n",
      "\n",
      "       deceased       0.87      0.92      0.89     10552\n",
      "   hospitalized       0.97      0.94      0.95     10628\n",
      "nonhospitalized       0.95      0.91      0.93     10598\n",
      "\n",
      "       accuracy                           0.93     31778\n",
      "      macro avg       0.93      0.93      0.93     31778\n",
      "   weighted avg       0.93      0.93      0.93     31778\n",
      "\n"
     ]
    }
   ],
   "source": [
    "#using k-fold to test the performance of Random Forest\n",
    "kfold1 = model_selection.KFold(n_splits=5) \n",
    "\n",
    "#get mean macro F1-score and overall accuracy of all classes\n",
    "scoring = {'accuracy' : make_scorer(accuracy_score),  \n",
    "           'f1_score' : make_scorer(f1_score, average = 'macro')}\n",
    "\n",
    "results = model_selection.cross_validate(estimator=rf,\n",
    "                                          X=X_train,\n",
    "                                          y=y_train,\n",
    "                                          cv=kfold1,\n",
    "                                          scoring=scoring)\n",
    "\n",
    "print(sorted(results.keys()))\n",
    "\n",
    "f1_mean = mean(results['test_f1_score'])\n",
    "print(\"Mean macro F1-score : \", f1_mean)\n",
    "acc_mean = mean(results['test_accuracy'])\n",
    "print(\"Mean overall accuracy : \", acc_mean)\n",
    "\n",
    "#get mean F1-score for 'deceased'\n",
    "y_pred = cross_val_predict(rf, X_train, y_train, cv=kfold1)\n",
    "report = classification_report(y_train, y_pred, target_names=['deceased', 'hospitalized', 'nonhospitalized'])\n",
    "print(report)"
   ]
  },
  {
   "cell_type": "code",
   "execution_count": 20,
   "id": "3f6d509a",
   "metadata": {},
   "outputs": [
    {
     "name": "stdout",
     "output_type": "stream",
     "text": [
      "0.9085845553527597\n",
      "0.8956576463184392\n"
     ]
    }
   ],
   "source": [
    "#base XGbooster classifier\n",
    "xgb1 = xgb.XGBClassifier(use_label_encoder=False,eval_metric='mlogloss')\n",
    "xgb1.fit(X_train,y_train)\n",
    "print(xgb1.score(X_train,y_train))\n",
    "print(xgb1.score(X_test,y_test))"
   ]
  },
  {
   "cell_type": "code",
   "execution_count": 21,
   "id": "945b1337",
   "metadata": {},
   "outputs": [
    {
     "name": "stdout",
     "output_type": "stream",
     "text": [
      "Fitting 5 folds for each of 50 candidates, totalling 250 fits\n",
      "\n",
      " Best hyperparameters:\n",
      "{'subsample': 1.0, 'min_child_weight': 1, 'max_depth': 20, 'gamma': 0.5, 'colsample_bytree': 1.0}\n"
     ]
    }
   ],
   "source": [
    "#Reference: https://www.kaggle.com/code/tilii7/hyperparameter-grid-search-with-xgboost/notebook\n",
    "param_random = {   'min_child_weight': [1, 5, 10],\n",
    "        'gamma': [0.5, 1, 1.5, 2, 5],\n",
    "        'subsample': [0.6, 0.8, 1.0],\n",
    "        'colsample_bytree': [0.6, 0.8, 1.0],\n",
    "        'max_depth': [5,10,15,20]\n",
    "             }\n",
    "\n",
    "\n",
    "xgb_random = RandomizedSearchCV(estimator = xgb1, param_distributions = param_random, n_iter = 50, cv = 5, verbose=3, n_jobs = -1)\n",
    "xgb_random.fit(X_train,y_train)\n",
    "\n",
    "#best hyperparameters returned by random search\n",
    "print('\\n Best hyperparameters:')\n",
    "print(xgb_random.best_params_)"
   ]
  },
  {
   "cell_type": "code",
   "execution_count": 22,
   "id": "bedbe347",
   "metadata": {},
   "outputs": [
    {
     "name": "stdout",
     "output_type": "stream",
     "text": [
      "Fitting 3 folds for each of 54 candidates, totalling 162 fits\n"
     ]
    },
    {
     "data": {
      "text/plain": [
       "GridSearchCV(cv=3,\n",
       "             estimator=XGBClassifier(base_score=0.5, booster='gbtree',\n",
       "                                     colsample_bylevel=1, colsample_bynode=1,\n",
       "                                     colsample_bytree=1,\n",
       "                                     enable_categorical=False,\n",
       "                                     eval_metric='mlogloss', gamma=0, gpu_id=-1,\n",
       "                                     importance_type=None,\n",
       "                                     interaction_constraints='',\n",
       "                                     learning_rate=0.300000012,\n",
       "                                     max_delta_step=0, max_depth=6,\n",
       "                                     min_child_weight=1, missing=nan,\n",
       "                                     monotone_constrain...\n",
       "                                     objective='multi:softprob',\n",
       "                                     predictor='auto', random_state=0,\n",
       "                                     reg_alpha=0, reg_lambda=1,\n",
       "                                     scale_pos_weight=None, subsample=1,\n",
       "                                     tree_method='exact',\n",
       "                                     use_label_encoder=False,\n",
       "                                     validate_parameters=1, ...),\n",
       "             n_jobs=-1,\n",
       "             param_grid={'colsample_bytree': [0.6, 0.8, 1.0], 'gamma': [0.5, 1],\n",
       "                         'max_depth': [10, 15, 20], 'min_child_weight': [1],\n",
       "                         'subsample': [0.6, 0.8, 1.0]},\n",
       "             scoring='f1_macro', verbose=2)"
      ]
     },
     "execution_count": 22,
     "metadata": {},
     "output_type": "execute_result"
    }
   ],
   "source": [
    "# grid search in ten random param\n",
    "param_grid = {   'min_child_weight': [1],\n",
    "        'gamma': [0.5, 1],\n",
    "        'subsample': [0.6, 0.8, 1.0],\n",
    "        'colsample_bytree': [0.6, 0.8, 1.0],\n",
    "        'max_depth': [10,15,20]\n",
    "             }\n",
    "\n",
    "xgb_grid = GridSearchCV(estimator = xgb1, param_grid = param_grid, \n",
    "                                 cv = 3,verbose=2, n_jobs = -1, \n",
    "                                 scoring='f1_macro')\n",
    "xgb_grid.fit(X_train, y_train)"
   ]
  },
  {
   "cell_type": "code",
   "execution_count": 23,
   "id": "a4f41d5c",
   "metadata": {},
   "outputs": [
    {
     "name": "stdout",
     "output_type": "stream",
     "text": [
      "\n",
      " Best hyperparameters:\n",
      "{'colsample_bytree': 1.0, 'gamma': 0.5, 'max_depth': 20, 'min_child_weight': 1, 'subsample': 0.8}\n"
     ]
    }
   ],
   "source": [
    "#best hyperparameters returned by grid search\n",
    "print('\\n Best hyperparameters:')\n",
    "print(xgb_grid.best_params_)"
   ]
  },
  {
   "cell_type": "code",
   "execution_count": 24,
   "id": "ca5ae5e7",
   "metadata": {},
   "outputs": [
    {
     "data": {
      "text/plain": [
       "XGBClassifier(base_score=0.5, booster='gbtree', colsample_bylevel=1,\n",
       "              colsample_bynode=1, colsample_bytree=0.8,\n",
       "              enable_categorical=False, eval_metric='mlogloss', gamma=0.5,\n",
       "              gpu_id=-1, importance_type=None, interaction_constraints='',\n",
       "              learning_rate=0.300000012, max_delta_step=0, max_depth=20,\n",
       "              min_child_weight=6, missing=nan, monotone_constraints='()',\n",
       "              n_estimators=100, n_jobs=8, num_parallel_tree=1,\n",
       "              objective='multi:softprob', predictor='auto', random_state=0,\n",
       "              reg_alpha=0, reg_lambda=1, scale_pos_weight=None, subsample=0.8,\n",
       "              tree_method='exact', use_label_encoder=False,\n",
       "              validate_parameters=1, ...)"
      ]
     },
     "execution_count": 24,
     "metadata": {},
     "output_type": "execute_result"
    }
   ],
   "source": [
    "#tuned XGbooster classifier\n",
    "best_xgb =  xgb.XGBClassifier(use_label_encoder=False,eval_metric='mlogloss',\n",
    "                        subsample= 0.8, min_child_weight= 6, \n",
    "                        max_depth= 20, gamma= 0.5, colsample_bytree= 0.8 )\n",
    "best_xgb.fit(X_train,y_train)"
   ]
  },
  {
   "cell_type": "code",
   "execution_count": 25,
   "id": "10c1754f",
   "metadata": {},
   "outputs": [
    {
     "name": "stdout",
     "output_type": "stream",
     "text": [
      "Tuned XGbooster model Testing Acuracy:  0.9208307111390812\n"
     ]
    }
   ],
   "source": [
    "print(\"Tuned XGbooster model Testing Acuracy: \", best_xgb.score(X_test,y_test))"
   ]
  },
  {
   "cell_type": "code",
   "execution_count": 26,
   "id": "65c74550",
   "metadata": {
    "scrolled": true
   },
   "outputs": [
    {
     "name": "stdout",
     "output_type": "stream",
     "text": [
      "['fit_time', 'score_time', 'test_accuracy', 'test_f1_score']\n",
      "Mean macro F1-score :  0.9183120063584627\n",
      "Mean overall accuracy :  0.9179623037810597\n",
      "                 precision    recall  f1-score   support\n",
      "\n",
      "       deceased       0.86      0.91      0.88     10552\n",
      "   hospitalized       0.96      0.94      0.95     10628\n",
      "nonhospitalized       0.94      0.90      0.92     10598\n",
      "\n",
      "       accuracy                           0.92     31778\n",
      "      macro avg       0.92      0.92      0.92     31778\n",
      "   weighted avg       0.92      0.92      0.92     31778\n",
      "\n"
     ]
    }
   ],
   "source": [
    "#using k-fold to test the performance of XGbooster\n",
    "kfold2 = model_selection.KFold(n_splits=5) \n",
    "\n",
    "#get mean macro F1-score and overall accuracy of all classes\n",
    "scoring = {'accuracy' : make_scorer(accuracy_score),  \n",
    "           'f1_score' : make_scorer(f1_score, average = 'macro')}\n",
    "\n",
    "results = model_selection.cross_validate(estimator=best_xgb,\n",
    "                                          X=X_train,\n",
    "                                          y=y_train,\n",
    "                                          cv=kfold2,\n",
    "                                          scoring=scoring)\n",
    "\n",
    "print(sorted(results.keys()))\n",
    "\n",
    "f1_mean = mean(results['test_f1_score'])\n",
    "print(\"Mean macro F1-score : \", f1_mean)\n",
    "acc_mean = mean(results['test_accuracy'])\n",
    "print(\"Mean overall accuracy : \", acc_mean)\n",
    "\n",
    "#get mean F1-score for 'deceased'\n",
    "y_pred = cross_val_predict(best_xgb, X_train, y_train, cv=kfold2)\n",
    "report = classification_report(y_train, y_pred, target_names=['deceased', 'hospitalized', 'nonhospitalized'])\n",
    "print(report)"
   ]
  },
  {
   "cell_type": "code",
   "execution_count": 27,
   "id": "107c6879",
   "metadata": {},
   "outputs": [
    {
     "name": "stdout",
     "output_type": "stream",
     "text": [
      "0.8208509031405374\n",
      "0.8134675896790434\n"
     ]
    }
   ],
   "source": [
    "#base Gradient Boosting trees model\n",
    "GBC = GradientBoostingClassifier()\n",
    "GBC.fit(X_train,y_train)\n",
    "\n",
    "#Base Random Forest model Training Accuracy\n",
    "print(GBC.score(X_train,y_train))\n",
    "#Base Random Forest model Testing Accuracy\n",
    "print(GBC.score(X_test,y_test))"
   ]
  },
  {
   "cell_type": "code",
   "execution_count": 28,
   "id": "894a0028",
   "metadata": {},
   "outputs": [
    {
     "name": "stdout",
     "output_type": "stream",
     "text": [
      "Fitting 3 folds for each of 100 candidates, totalling 300 fits\n"
     ]
    },
    {
     "data": {
      "text/plain": [
       "{'subsample': 1.0,\n",
       " 'n_estimators': 100,\n",
       " 'min_samples_split': 10,\n",
       " 'min_samples_leaf': 2,\n",
       " 'max_features': 'auto',\n",
       " 'max_depth': 80,\n",
       " 'learning_rate': 1}"
      ]
     },
     "execution_count": 28,
     "metadata": {},
     "output_type": "execute_result"
    }
   ],
   "source": [
    "#hyperparameters passed to randomized search\n",
    "grid = dict()\n",
    "grid['n_estimators'] = [4, 32, 64, 100]\n",
    "grid['learning_rate'] = [1, 0.5, 0.25, 0.1]\n",
    "grid['subsample'] = [0.5, 0.7, 1.0]\n",
    "grid['max_depth'] = [5, 10, 20, 40, 80]\n",
    "grid['min_samples_split'] = [0.1, 0.5, 1.0 ,5,10,20, 40, 60, 100]\n",
    "grid['min_samples_leaf'] = [0.1, 0.2, 0.3, 0.4, 0.5, 2, 5]\n",
    "grid['max_features'] = ['auto', 'sqrt', 'log2']\n",
    "\n",
    "cv = KFold(n_splits=3, shuffle=True)\n",
    "random_search = RandomizedSearchCV(estimator = GBC, param_distributions = grid, n_iter = 100, \n",
    "                                 cv = cv, verbose=2, n_jobs = -1, \n",
    "                                 scoring='f1_macro')\n",
    "    \n",
    "random_search = random_search.fit(X_train, y_train)\n",
    "\n",
    "random_search.best_params_"
   ]
  },
  {
   "cell_type": "code",
   "execution_count": 29,
   "id": "e084904c",
   "metadata": {},
   "outputs": [
    {
     "data": {
      "text/plain": [
       "GradientBoostingClassifier(max_depth=40, max_features=2, min_samples_leaf=5,\n",
       "                           min_samples_split=10, subsample=0.7)"
      ]
     },
     "execution_count": 29,
     "metadata": {},
     "output_type": "execute_result"
    }
   ],
   "source": [
    "# train best random \n",
    "GBC = GradientBoostingClassifier(\n",
    " subsample= 0.7,\n",
    " n_estimators= 100,\n",
    " min_samples_split= 10,\n",
    " min_samples_leaf= 5,\n",
    " max_features= 2,\n",
    " max_depth= 40,\n",
    " learning_rate= 0.1)\n",
    "GBC.fit(X_train, y_train)"
   ]
  },
  {
   "cell_type": "code",
   "execution_count": 30,
   "id": "ab58da16",
   "metadata": {},
   "outputs": [],
   "source": [
    "# grid search\n",
    "grid = dict()\n",
    "grid['n_estimators'] = [100,64,32]\n",
    "grid['learning_rate'] = [0.25, 0.5, 0.1]\n",
    "grid['subsample'] = [1.0,0.7]\n",
    "grid['max_depth'] = [40, 20, 10, 80]\n",
    "grid['min_samples_split'] = [20, 5, 10, 60]\n",
    "grid['min_samples_leaf'] = [2, 5]\n",
    "grid['max_features'] = ['sqrt', 'auto']\n",
    "\n",
    "grid_search = GridSearchCV(estimator = GBC, param_grid = grid, \n",
    "                                 cv = 2, verbose=2, n_jobs = -1, \n",
    "                                 scoring='f1_macro')\n",
    "#grid_search = grid_search.fit(X_train, y_train)\n",
    "\n",
    "#grid_search.best_params_"
   ]
  },
  {
   "cell_type": "code",
   "execution_count": 31,
   "id": "6381f049",
   "metadata": {},
   "outputs": [
    {
     "data": {
      "text/plain": [
       "GradientBoostingClassifier(max_depth=40, max_features='auto',\n",
       "                           min_samples_leaf=2, min_samples_split=20,\n",
       "                           subsample=0.7)"
      ]
     },
     "execution_count": 31,
     "metadata": {},
     "output_type": "execute_result"
    }
   ],
   "source": [
    "# train the best grid\n",
    "GBC = GradientBoostingClassifier(\n",
    " subsample= 0.7,\n",
    " n_estimators= 100,\n",
    " min_samples_split= 20,\n",
    " min_samples_leaf= 2,\n",
    " max_features= 'auto',\n",
    " max_depth= 40,\n",
    " learning_rate= 0.1)\n",
    "GBC.fit(X_train, y_train)"
   ]
  },
  {
   "cell_type": "code",
   "execution_count": 32,
   "id": "ef517a08",
   "metadata": {},
   "outputs": [
    {
     "name": "stdout",
     "output_type": "stream",
     "text": [
      "Tuned Gradient Boosting trees model Testing Acuracy:  0.9268722466960353\n"
     ]
    }
   ],
   "source": [
    "print(\"Tuned Gradient Boosting trees model Testing Acuracy: \", GBC.score(X_test,y_test))"
   ]
  },
  {
   "cell_type": "code",
   "execution_count": 33,
   "id": "d0dc636e",
   "metadata": {
    "scrolled": true
   },
   "outputs": [
    {
     "name": "stdout",
     "output_type": "stream",
     "text": [
      "['fit_time', 'score_time', 'test_accuracy', 'test_f1_score']\n",
      "Mean macro F1-score :  0.9251974013491813\n",
      "Mean overall accuracy :  0.9247593630283731\n",
      "                 precision    recall  f1-score   support\n",
      "\n",
      "       deceased       0.87      0.92      0.89     10552\n",
      "   hospitalized       0.96      0.94      0.95     10628\n",
      "nonhospitalized       0.95      0.91      0.93     10598\n",
      "\n",
      "       accuracy                           0.92     31778\n",
      "      macro avg       0.93      0.92      0.93     31778\n",
      "   weighted avg       0.93      0.92      0.93     31778\n",
      "\n"
     ]
    }
   ],
   "source": [
    "#using k-fold to test the performance of Gradient Boosting trees\n",
    "kfold3 = model_selection.KFold(n_splits=5) \n",
    "\n",
    "#get mean macro F1-score and overall accuracy of all classes\n",
    "scoring = {'accuracy' : make_scorer(accuracy_score),  \n",
    "           'f1_score' : make_scorer(f1_score, average = 'macro')}\n",
    "\n",
    "results = model_selection.cross_validate(estimator=GBC,\n",
    "                                          X=X_train,\n",
    "                                          y=y_train,\n",
    "                                          cv=kfold3,\n",
    "                                          scoring=scoring)\n",
    "\n",
    "print(sorted(results.keys()))\n",
    "\n",
    "f1_mean = mean(results['test_f1_score'])\n",
    "print(\"Mean macro F1-score : \", f1_mean)\n",
    "acc_mean = mean(results['test_accuracy'])\n",
    "print(\"Mean overall accuracy : \", acc_mean)\n",
    "\n",
    "#get mean F1-score for 'deceased'\n",
    "y_pred = cross_val_predict(GBC, X_train, y_train, cv=kfold3)\n",
    "report = classification_report(y_train, y_pred, target_names=['deceased', 'hospitalized', 'nonhospitalized'])\n",
    "print(report)"
   ]
  },
  {
   "cell_type": "code",
   "execution_count": 34,
   "id": "34d91ce7",
   "metadata": {},
   "outputs": [
    {
     "data": {
      "image/png": "[encoded data removed]",
      "text/plain": [
       "<Figure size 432x288 with 1 Axes>"
      ]
     },
     "metadata": {
      "needs_background": "light"
     },
     "output_type": "display_data"
    }
   ],
   "source": [
    "#1.5 check if the model is overfitted\n",
    "#References: https://towardsdatascience.com/how-to-check-if-a-classification-model-is-overfitted-using-scikit-learn-148b6b19af8b\n",
    "#check if random forest is overfitted\n",
    "kf1 = KFold(n_splits=5)\n",
    "mae_train = []\n",
    "mae_test = []\n",
    "for train_index, test_index in kf1.split(cases_train):\n",
    "    \n",
    "    X_train, X_test = cases_train.iloc[train_index], cases_train.iloc[test_index]\n",
    "    y_train, y_test = y[train_index], y[test_index]\n",
    "    #random forest\n",
    "    model = RandomForestClassifier(criterion= 'entropy',\n",
    "             max_features = 'auto',\n",
    "             max_depth = 40,\n",
    "             min_samples_leaf = 1,\n",
    "             min_samples_split= 2,\n",
    "             n_estimators = 115, random_state=7)\n",
    "    model.fit(X_train, y_train)\n",
    "    y_train_pred = model.predict(X_train)\n",
    "    y_test_pred = model.predict(X_test)\n",
    "    mae_train.append(mean_absolute_error(y_train, y_train_pred))\n",
    "    mae_test.append(mean_absolute_error(y_test, y_test_pred))\n",
    "\n",
    "folds = range(1, kf1.get_n_splits() + 1)\n",
    "plt.plot(folds, mae_train, 'o-', color='blue', label='train')\n",
    "plt.plot(folds, mae_test, 'o-', color='green', label='test')\n",
    "plt.legend()\n",
    "plt.grid()\n",
    "plt.title('Random Forest')\n",
    "plt.xlabel('Number of fold')\n",
    "plt.ylabel('Mean Absolute Error')\n",
    "plt.savefig(\"./plots/RF_overfit.png\")\n",
    "plt.show()"
   ]
  },
  {
   "cell_type": "code",
   "execution_count": 35,
   "id": "631a3c78",
   "metadata": {},
   "outputs": [
    {
     "data": {
      "image/png": "[encoded data removed]",
      "text/plain": [
       "<Figure size 432x288 with 1 Axes>"
      ]
     },
     "metadata": {
      "needs_background": "light"
     },
     "output_type": "display_data"
    }
   ],
   "source": [
    "#check if XGbooster is overfitted\n",
    "kf2 = KFold(n_splits=5)\n",
    "mae_train = []\n",
    "mae_test = []\n",
    "for train_index, test_index in kf2.split(cases_train):\n",
    "    \n",
    "    X_train, X_test = cases_train.iloc[train_index], cases_train.iloc[test_index]\n",
    "    y_train, y_test = y[train_index], y[test_index]\n",
    "    #XGbooster\n",
    "    model = xgb.XGBClassifier(use_label_encoder=False,eval_metric='mlogloss',\n",
    "                        subsample= 0.8, min_child_weight= 6, \n",
    "                        max_depth= 20, gamma= 0.5, colsample_bytree= 0.8)\n",
    "    model.fit(X_train, y_train)\n",
    "    y_train_pred = model.predict(X_train)\n",
    "    y_test_pred = model.predict(X_test)\n",
    "    mae_train.append(mean_absolute_error(y_train, y_train_pred))\n",
    "    mae_test.append(mean_absolute_error(y_test, y_test_pred))\n",
    "\n",
    "folds = range(1, kf2.get_n_splits() + 1)\n",
    "plt.plot(folds, mae_train, 'o-', color='blue', label='train')\n",
    "plt.plot(folds, mae_test, 'o-', color='green', label='test')\n",
    "plt.legend()\n",
    "plt.grid()\n",
    "plt.title('XGbooster')\n",
    "plt.xlabel('Number of fold')\n",
    "plt.ylabel('Mean Absolute Error')\n",
    "plt.savefig(\"./plots/XGB_overfit.png\")\n",
    "plt.show()"
   ]
  },
  {
   "cell_type": "code",
   "execution_count": 36,
   "id": "b30d86a9",
   "metadata": {},
   "outputs": [
    {
     "data": {
      "image/png": "[encoded data removed]",
      "text/plain": [
       "<Figure size 432x288 with 1 Axes>"
      ]
     },
     "metadata": {
      "needs_background": "light"
     },
     "output_type": "display_data"
    }
   ],
   "source": [
    "#check if Gradient Boosting trees is overfitted\n",
    "kf3 = KFold(n_splits=5)\n",
    "mae_train = []\n",
    "mae_test = []\n",
    "for train_index, test_index in kf3.split(cases_train):\n",
    "    \n",
    "    X_train, X_test = cases_train.iloc[train_index], cases_train.iloc[test_index]\n",
    "    y_train, y_test = y[train_index], y[test_index]\n",
    "    #Gradient Boosting trees\n",
    "    model = GradientBoostingClassifier(\n",
    "                 subsample= 0.7,\n",
    "                 n_estimators= 100,\n",
    "                 min_samples_split= 20,\n",
    "                 min_samples_leaf= 2,\n",
    "                 max_features= 'auto',\n",
    "                 max_depth= 40,\n",
    "                 learning_rate= 0.1)\n",
    "    model.fit(X_train, y_train)\n",
    "    y_train_pred = model.predict(X_train)\n",
    "    y_test_pred = model.predict(X_test)\n",
    "    mae_train.append(mean_absolute_error(y_train, y_train_pred))\n",
    "    mae_test.append(mean_absolute_error(y_test, y_test_pred))\n",
    "\n",
    "folds = range(1, kf3.get_n_splits() + 1)\n",
    "plt.plot(folds, mae_train, 'o-', color='blue', label='train')\n",
    "plt.plot(folds, mae_test, 'o-', color='green', label='test')\n",
    "plt.legend()\n",
    "plt.grid()\n",
    "plt.title('Gradient Boosting trees')\n",
    "plt.xlabel('Number of fold')\n",
    "plt.ylabel('Mean Absolute Error')\n",
    "plt.savefig(\"./plots/GBC_overfit.png\")\n",
    "plt.show()"
   ]
  },
  {
   "cell_type": "code",
   "execution_count": 37,
   "id": "3bf19aa9",
   "metadata": {},
   "outputs": [],
   "source": [
    "cases_test = pd.read_excel('cases_2021_test_processed_unlabelled_2.xlsx')\n",
    "\n",
    "features = ['age','sex','latitude','longitude','chronic_disease_binary','Confirmed','Deaths','Recovered','Active','Incident_Rate','Case_Fatality_Ratio']\n",
    "\n",
    "cases_test = cases_test[features]\n",
    "\n",
    "#sex column mapping\n",
    "cases_test.sex = pd.Categorical(cases_test.sex)\n",
    "cases_test['sex'] = cases_test.sex.cat.codes\n",
    "#chronic_disease_binary column mapping\n",
    "cases_test.chronic_disease_binary = pd.Categorical(cases_test.chronic_disease_binary)\n",
    "cases_test['chronic_disease_binary'] = cases_test.chronic_disease_binary.cat.codes"
   ]
  },
  {
   "cell_type": "code",
   "execution_count": 38,
   "id": "884f042a",
   "metadata": {},
   "outputs": [],
   "source": [
    "#scale features in test dataset\n",
    "for column in cases_test.columns:\n",
    "    feature = np.array(cases_test[column]).reshape(-1,1)\n",
    "    scaler = MinMaxScaler()\n",
    "    scaler.fit(feature)\n",
    "    feature_scaled = scaler.transform(feature)\n",
    "    cases_test[column] = feature_scaled.reshape(1,-1)[0]"
   ]
  },
  {
   "cell_type": "code",
   "execution_count": 39,
   "id": "223f1ab2",
   "metadata": {},
   "outputs": [
    {
     "name": "stdout",
     "output_type": "stream",
     "text": [
      "[2 1 1 ... 1 1 1] 4304\n"
     ]
    }
   ],
   "source": [
    "#use random forest to perdict\n",
    "rf_outcome = rf.predict(cases_test)\n",
    "print(rf_outcome, len(rf_outcome))"
   ]
  },
  {
   "cell_type": "code",
   "execution_count": 40,
   "id": "1803c742",
   "metadata": {},
   "outputs": [
    {
     "name": "stdout",
     "output_type": "stream",
     "text": [
      "[2 0 0 ... 0 1 1] 4304\n"
     ]
    }
   ],
   "source": [
    "#use XGboster to perdict\n",
    "xgb_outcome = best_xgb.predict(cases_test)\n",
    "print(xgb_outcome, len(xgb_outcome))"
   ]
  },
  {
   "cell_type": "code",
   "execution_count": 41,
   "id": "c8501212",
   "metadata": {},
   "outputs": [
    {
     "name": "stdout",
     "output_type": "stream",
     "text": [
      "[2 1 0 ... 0 1 1] 4304\n"
     ]
    }
   ],
   "source": [
    "#use Gradient Boosting trees to perdict\n",
    "gbc_outcome = GBC.predict(cases_test)\n",
    "print(gbc_outcome, len(gbc_outcome))"
   ]
  },
  {
   "cell_type": "code",
   "execution_count": 42,
   "id": "99159b8d",
   "metadata": {},
   "outputs": [],
   "source": [
    "def create_submission_file(y_preds, file_name):\n",
    "    with open(file_name, 'w') as csvfile:\n",
    "        wr = csv.writer(csvfile, quoting=csv.QUOTE_ALL)\n",
    "        wr.writerow([\"Id\", \"Prediction\"])\n",
    "        for i, pred in enumerate(y_preds):\n",
    "            wr.writerow([str(i), str(pred)])\n",
    "create_submission_file(rf_outcome, 'submission_rf.csv')         \n",
    "create_submission_file(rf_outcome, 'predictions.csv')\n",
    "create_submission_file(xgb_outcome, 'submission_xgb.csv')\n",
    "create_submission_file(gbc_outcome, 'submission_gbc.csv')\n"
   ]
  }
 ],
 "metadata": {
  "kernelspec": {
   "display_name": "Python [conda env:root] *",
   "language": "python",
   "name": "conda-root-py"
  },
  "language_info": {
   "codemirror_mode": {
    "name": "ipython",
    "version": 3
   },
   "file_extension": ".py",
   "mimetype": "text/x-python",
   "name": "python",
   "nbconvert_exporter": "python",
   "pygments_lexer": "ipython3",
   "version": "3.8.8"
  }
 },
 "nbformat": 4,
 "nbformat_minor": 5
}
